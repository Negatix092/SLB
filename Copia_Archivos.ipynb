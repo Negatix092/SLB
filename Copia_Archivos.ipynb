{
 "cells": [
  {
   "cell_type": "code",
   "execution_count": null,
   "metadata": {},
   "outputs": [],
   "source": [
    "import shutil \n",
    "import os\n",
    "import magic \n",
    "\n",
    "#Definición de carpetas de origen y de destino\n",
    "carpeta_origen = r'\\\\dir.slb.com\\NSA\\SAM_Collaborate\\EC0037\\00_Well_File\\AUCA CENTRAL\\ACA-223\\04 Trabajos de CPI y Workover\\WO#05\\1. Propuesta Tecnica\\2. Propuesta Documentos Finales'\n",
    "carpeta_destino0 = r'\\\\dir.slb.com\\NSA\\SAM_Collaborate\\EC0037\\00_Well_File\\Tests\\RT1\\t0'\n",
    "carpeta_destino1 = r'\\\\dir.slb.com\\NSA\\SAM_Collaborate\\EC0037\\00_Well_File\\Tests\\RT1\\t1'\n",
    "carpeta_destino2 = r'\\\\dir.slb.com\\NSA\\SAM_Collaborate\\EC0037\\00_Well_File\\Tests\\RT1\\t2'\n",
    "\n",
    "#Se usa python-magic para detectar el formato del archivo (libreria de python)\n",
    "mime = magic.Magic(mime=True)\n",
    "\n",
    "#Primera prueba, copiar archivos por formato de extensión (.docx)\n",
    "\n",
    "def copia_por_formato():\n",
    "    for archivo in os.listdir(carpeta_origen):\n",
    "        ruta_completa = os.path.join(carpeta_origen, archivo)\n",
    "        if os.path.isfile(ruta_completa):\n",
    "            tipo_mime = mime.from_file(ruta_completa)\n",
    "            if tipo_mime == 'application/vnd.openxmlformats-officedocument.wordprocessingml.document':\n",
    "                shutil.copy(ruta_completa, carpeta_destino0)\n",
    "                print(f\"Se ha copiado por formato lo siguiente: {archivo}\")"
   ]
  },
  {
   "cell_type": "code",
   "execution_count": null,
   "metadata": {},
   "outputs": [],
   "source": [
    "copia_por_formato()"
   ]
  },
  {
   "cell_type": "code",
   "execution_count": null,
   "metadata": {},
   "outputs": [],
   "source": [
    "def copia_todo():\n",
    "    for archivo in os.listdir(carpeta_origen):\n",
    "        ruta_completa = os.path.join(carpeta_origen,archivo)\n",
    "        if os.path.isfile(ruta_completa):\n",
    "            shutil.copy(ruta_completa, carpeta_destino1)\n",
    "            print(f\"Se ha copiado el archivo: {archivo}\")\n",
    "    print(\"Se han copiado todos los archivos.\")"
   ]
  },
  {
   "cell_type": "code",
   "execution_count": null,
   "metadata": {},
   "outputs": [],
   "source": [
    "copia_todo()"
   ]
  },
  {
   "cell_type": "code",
   "execution_count": null,
   "metadata": {},
   "outputs": [],
   "source": [
    "def copia_mas_reciente():\n",
    "    archivo_reciente = None\n",
    "    tiempo_reciente = 0\n",
    "    for archivo in os.listdir(carpeta_origen):\n",
    "        ruta_completa = os.path.join(carpeta_origen, archivo)\n",
    "        if os.path.isfile(ruta_completa):\n",
    "            tiempo_modificacion = os.path.getmtime(ruta_completa)\n",
    "            if tiempo_modificacion > tiempo_reciente:\n",
    "                tiempo_reciente = tiempo_modificacion\n",
    "                archivo_reciente = ruta_completa\n",
    "    if archivo_reciente:\n",
    "        shutil.copy(archivo_reciente, carpeta_destino2)\n",
    "        print(f\"Se ha copiado el archivo mas reciente: {os.path.basename(archivo_reciente)}\")"
   ]
  },
  {
   "cell_type": "code",
   "execution_count": null,
   "metadata": {},
   "outputs": [],
   "source": [
    "copia_mas_reciente()"
   ]
  }
 ],
 "metadata": {
  "kernelspec": {
   "display_name": "Python 3",
   "language": "python",
   "name": "python3"
  },
  "language_info": {
   "name": "python",
   "version": "3.12.1"
  }
 },
 "nbformat": 4,
 "nbformat_minor": 2
}
